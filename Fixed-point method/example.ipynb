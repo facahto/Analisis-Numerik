{
  "nbformat": 4,
  "nbformat_minor": 0,
  "metadata": {
    "colab": {
      "provenance": [],
      "authorship_tag": "ABX9TyOTW1t9QUC/NslcPjVD3SJW",
      "include_colab_link": true
    },
    "kernelspec": {
      "name": "python3",
      "display_name": "Python 3"
    },
    "language_info": {
      "name": "python"
    }
  },
  "cells": [
    {
      "cell_type": "markdown",
      "metadata": {
        "id": "view-in-github",
        "colab_type": "text"
      },
      "source": [
        "<a href=\"https://colab.research.google.com/github/facahto/Analisis-Numerik/blob/main/Fixed-point%20method/example.ipynb\" target=\"_parent\"><img src=\"https://colab.research.google.com/assets/colab-badge.svg\" alt=\"Open In Colab\"/></a>"
      ]
    },
    {
      "cell_type": "code",
      "execution_count": 1,
      "metadata": {
        "id": "l_seK77R3qj6"
      },
      "outputs": [],
      "source": [
        "import numpy as np\n",
        "import pandas as pd"
      ]
    },
    {
      "cell_type": "code",
      "source": [
        "def g1(x):\n",
        "  return x-(x**3)-(4*(x**2))+10\n",
        "\n",
        "def g2(x):\n",
        "  return ((10/x)-4*x)**(1/2)\n",
        "\n",
        "def g3(x):\n",
        "  return (1/2)*((10-(x**3))**(1/2))\n",
        "\n",
        "def g4(x):\n",
        "  return (10/(4+x))**(1/2)\n",
        "\n",
        "def g5(x):\n",
        "  return x-(((x**3)+4*(x**2)-10)/(3*(x**2)+8*x))"
      ],
      "metadata": {
        "id": "zW9BdLor5eAa"
      },
      "execution_count": 2,
      "outputs": []
    },
    {
      "cell_type": "code",
      "source": [
        "i   = 0\n",
        "N   = 30\n",
        "p0  = 1.5\n",
        "TOL = 10**(-4)\n",
        "data= []\n",
        "\n",
        "while i<N:\n",
        "  p = g3(p0)\n",
        "  if abs(p-p0)<TOL:\n",
        "    print(f'p = {p}')\n",
        "    break\n",
        "  i = i+1\n",
        "  p0 = p\n",
        "  if i==N:\n",
        "    print(f'UNSUCCESSFUL p = {p}')"
      ],
      "metadata": {
        "colab": {
          "base_uri": "https://localhost:8080/"
        },
        "id": "mzWwN-BY6YXi",
        "outputId": "01c8741e-0ce6-4d9a-d807-35008e79cb09"
      },
      "execution_count": 8,
      "outputs": [
        {
          "output_type": "stream",
          "name": "stdout",
          "text": [
            "p = 1.3652058502970472\n"
          ]
        }
      ]
    }
  ]
}