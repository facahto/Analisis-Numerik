{
  "cells": [
    {
      "cell_type": "markdown",
      "source": [
        "# **Example 1**\n",
        "\n",
        "Kode di bawah dibentuk untuk mencari akar dari persamaan $f(x)=x^3+4x^2-10=0$ dimana akar tersebut berada pada interval $[1,2]$. Dalam file ini, *bisection method* digunakan untuk menentukan hampiran dari akar untuk persamaan di atas dengan akurasi di $10^{-4}$. Sebelum menjalankan program keseluruhan, inisialisasi parameter dilakukan terlebih dahulu. Adapun parameter yang diatur di awal adalah iterasi maksimum $k_{max}$, toleransi $TOL$, batas bawah $a$ dan batas atas $b$."
      ],
      "metadata": {
        "id": "85Aa3h1aF-s5"
      }
    },
    {
      "cell_type": "code",
      "source": [
        "# function\n",
        "def f(x):\n",
        "  return (x**3) + 4*(x**2) - 10\n",
        "\n",
        "# initialization\n",
        "kmax = 13     # maximum number of iteration\n",
        "TOL  = 1e-4   # tolerance to complete the whole prpocedure\n",
        "a    = 1      # lower bound\n",
        "b    = 2      # upper bound"
      ],
      "metadata": {
        "id": "Hn61BJxsGHLa"
      },
      "execution_count": 1,
      "outputs": []
    },
    {
      "cell_type": "markdown",
      "source": [
        "Selanjutnya, program dibentuk berdasarkan langkah-langkah umum dari *bisection method*."
      ],
      "metadata": {
        "id": "sz7TdCokGIAH"
      }
    },
    {
      "cell_type": "code",
      "source": [
        "i  = 0\n",
        "FA = f(a)\n",
        "\n",
        "while i<kmax:\n",
        "  \n",
        "  p  = a + (b-a)/2\n",
        "  FP = f(p)\n",
        "\n",
        "  if FP == 0 or (b-a)/2<TOL:\n",
        "    break\n",
        "\n",
        "  i = i+1\n",
        "  if FA*FP>0:\n",
        "    a  = p\n",
        "    FA = FP\n",
        "  else:\n",
        "    b=p\n",
        "\n"
      ],
      "metadata": {
        "colab": {
          "base_uri": "https://localhost:8080/"
        },
        "id": "8cI6ZUIdmMrY",
        "outputId": "6e96c6f6-ceed-47a2-bc68-715a061cd483"
      },
      "execution_count": 2,
      "outputs": [
        {
          "output_type": "stream",
          "name": "stdout",
          "text": [
            "a = 1; b = 2; p = 1.5; FP = 2.375\n",
            "a = 1; b = 1.5; p = 1.25; FP = -1.796875\n",
            "a = 1.25; b = 1.5; p = 1.375; FP = 0.162109375\n",
            "a = 1.25; b = 1.375; p = 1.3125; FP = -0.848388671875\n",
            "a = 1.3125; b = 1.375; p = 1.34375; FP = -0.350982666015625\n",
            "a = 1.34375; b = 1.375; p = 1.359375; FP = -0.09640884399414062\n",
            "a = 1.359375; b = 1.375; p = 1.3671875; FP = 0.03235578536987305\n",
            "a = 1.359375; b = 1.3671875; p = 1.36328125; FP = -0.03214997053146362\n",
            "a = 1.36328125; b = 1.3671875; p = 1.365234375; FP = 7.202476263046265e-05\n",
            "a = 1.36328125; b = 1.365234375; p = 1.3642578125; FP = -0.01604669075459242\n",
            "a = 1.3642578125; b = 1.365234375; p = 1.36474609375; FP = -0.007989262812770903\n",
            "a = 1.36474609375; b = 1.365234375; p = 1.364990234375; FP = -0.003959101522923447\n",
            "a = 1.364990234375; b = 1.365234375; p = 1.3651123046875; FP = -0.0019436590100667672\n"
          ]
        }
      ]
    },
    {
      "cell_type": "code",
      "source": [],
      "metadata": {
        "id": "tTl5bVP3mYKd"
      },
      "execution_count": 2,
      "outputs": []
    }
  ],
  "metadata": {
    "colab": {
      "provenance": []
    },
    "kernelspec": {
      "display_name": "Python 3",
      "name": "python3"
    },
    "language_info": {
      "name": "python"
    }
  },
  "nbformat": 4,
  "nbformat_minor": 0
}